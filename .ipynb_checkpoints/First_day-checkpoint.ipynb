{
 "cells": [
  {
   "cell_type": "markdown",
   "id": "8be7a96d-bba5-4c84-bc13-e083992de29a",
   "metadata": {},
   "source": [
    "# Первая задача (сложение)"
   ]
  },
  {
   "cell_type": "markdown",
   "id": "1376207c-13da-4c08-8c2c-fc78b9f34015",
   "metadata": {},
   "source": [
    "мое недорешенное"
   ]
  },
  {
   "cell_type": "code",
   "execution_count": 27,
   "id": "75fbdc62-2cdc-43a7-aef1-f6d9f29d40e7",
   "metadata": {},
   "outputs": [
    {
     "name": "stdin",
     "output_type": "stream",
     "text": [
      " 20-2-5\n"
     ]
    },
    {
     "ename": "ValueError",
     "evalue": "invalid literal for int() with base 10: '18-2'",
     "output_type": "error",
     "traceback": [
      "\u001b[1;31m---------------------------------------------------------------------------\u001b[0m",
      "\u001b[1;31mValueError\u001b[0m                                Traceback (most recent call last)",
      "Cell \u001b[1;32mIn [27], line 35\u001b[0m\n\u001b[0;32m     33\u001b[0m positions \u001b[38;5;241m=\u001b[39m signs(string)\n\u001b[0;32m     34\u001b[0m \u001b[38;5;28;01mfor\u001b[39;00m j \u001b[38;5;129;01min\u001b[39;00m \u001b[38;5;28mrange\u001b[39m(\u001b[38;5;241m0\u001b[39m, \u001b[38;5;28mlen\u001b[39m(positions)):\n\u001b[1;32m---> 35\u001b[0m     first_number \u001b[38;5;241m=\u001b[39m \u001b[38;5;28;43mint\u001b[39;49m\u001b[43m(\u001b[49m\u001b[43mstring\u001b[49m\u001b[43m[\u001b[49m\u001b[43m:\u001b[49m\u001b[43mpositions\u001b[49m\u001b[43m[\u001b[49m\u001b[43mj\u001b[49m\u001b[43m]\u001b[49m\u001b[43m]\u001b[49m\u001b[43m)\u001b[49m\n\u001b[0;32m     36\u001b[0m     \u001b[38;5;28;01mif\u001b[39;00m (j \u001b[38;5;241m+\u001b[39m \u001b[38;5;241m1\u001b[39m \u001b[38;5;241m==\u001b[39m \u001b[38;5;28mlen\u001b[39m(positions)):\n\u001b[0;32m     37\u001b[0m         second_number \u001b[38;5;241m=\u001b[39m \u001b[38;5;28mint\u001b[39m(string[positions[j]\u001b[38;5;241m+\u001b[39m\u001b[38;5;241m1\u001b[39m:])\n",
      "\u001b[1;31mValueError\u001b[0m: invalid literal for int() with base 10: '18-2'"
     ]
    }
   ],
   "source": [
    "import re\n",
    "\n",
    "def signs(str:str) -> list:\n",
    "    positions = []\n",
    "    for i in range(0, len(str)):\n",
    "        if (string[i] == '+'):\n",
    "            positions.append(i)\n",
    "        if (string[i] == '-'):\n",
    "            positions.append(i)\n",
    "    return positions\n",
    "\n",
    "# Чтение строки с клавиатуры\n",
    "s = input()\n",
    "pattern = r'^[0-9+-]+$'\n",
    "if re.match(pattern, s):\n",
    "    string = s\n",
    "    \n",
    "    # positions = []\n",
    "    # for i in range(0, len(string)):\n",
    "    #     if (string[i] == '+'):\n",
    "    #         positions.append(i)\n",
    "    #     if (string[i] == '-'):\n",
    "    #         positions.append(i)\n",
    "    # if (positions == []):\n",
    "    #     print(string)\n",
    "    \n",
    "    positions = signs(string)\n",
    "    if (positions == []):\n",
    "        print(string)\n",
    "    else:\n",
    "        number = 0\n",
    "        while (string != ''):\n",
    "            positions = signs(string)\n",
    "            for j in range(0, len(positions)):\n",
    "                first_number = int(string[:positions[j]])\n",
    "                if (j + 1 == len(positions)):\n",
    "                    second_number = int(string[positions[j]+1:])\n",
    "                else:\n",
    "                    second_number = int(string[positions[j]+1:positions[j+1]])\n",
    "\n",
    "                # print(first_number, second_number)\n",
    "\n",
    "                if string[positions[j]] == '+':\n",
    "                    number = first_number + second_number\n",
    "                else:\n",
    "                    number = first_number - second_number\n",
    "\n",
    "                if (j + 1 != len(positions)):\n",
    "                    string = str(number) + string[positions[j]:]\n",
    "                else:\n",
    "                    string = ''\n",
    "        print(number)\n",
    "                    \n",
    "                    \n",
    "#                     positions = signs(string)\n",
    "#                 else:\n",
    "#                     print(number)\n",
    "\n",
    "            #         second_number = int(string[positions[j]+1:])\n",
    "            #     else:\n",
    "            #         second_number = int(string[positions[j]+1:positions[j+1]])\n",
    "            #     string = string[positions[j]:]\n",
    "            # print(number)"
   ]
  },
  {
   "cell_type": "markdown",
   "id": "a53ecfa3-8c16-4cfc-9322-9fe31b164bc9",
   "metadata": {},
   "source": [
    "чат гпт решил"
   ]
  },
  {
   "cell_type": "code",
   "execution_count": 31,
   "id": "de85d168-92e2-4e67-8237-4608ee2417c0",
   "metadata": {},
   "outputs": [
    {
     "name": "stdin",
     "output_type": "stream",
     "text": [
      " 25-10+5\n"
     ]
    },
    {
     "name": "stdout",
     "output_type": "stream",
     "text": [
      "20\n"
     ]
    }
   ],
   "source": [
    "import re\n",
    "\n",
    "def signs(s: str) -> list:\n",
    "    positions = []\n",
    "    for i in range(len(s)):\n",
    "        if (s[i] == '+') or (s[i] == '-'):\n",
    "            positions.append(i)\n",
    "    return positions\n",
    "\n",
    "# Чтение строки с клавиатуры\n",
    "s = input()\n",
    "pattern = r'^[0-9+-]+$'\n",
    "if re.match(pattern, s):\n",
    "    string = s\n",
    "\n",
    "    positions = signs(string)\n",
    "\n",
    "    if not positions:\n",
    "        print(string)\n",
    "    else:\n",
    "        operators = [string[i] for i in positions]\n",
    "        numbers = re.split(r'[+-]', string)\n",
    "\n",
    "        result = int(numbers[0])\n",
    "\n",
    "        for i in range(len(operators)):\n",
    "            if operators[i] == '+':\n",
    "                result += int(numbers[i + 1])\n",
    "            elif operators[i] == '-':\n",
    "                result -= int(numbers[i + 1])\n",
    "\n",
    "        print(result)\n"
   ]
  },
  {
   "cell_type": "markdown",
   "id": "c7d1c935-f852-40c3-922e-830040ab058d",
   "metadata": {},
   "source": [
    "# Задание 2 (взвешенное дерево)"
   ]
  },
  {
   "cell_type": "markdown",
   "id": "b6d8c243-c271-423c-9a45-ba2a9743f0c6",
   "metadata": {},
   "source": [
    "чат гпт неправильное решение"
   ]
  },
  {
   "cell_type": "code",
   "execution_count": 46,
   "id": "f068f23d-b6f4-4cb4-9720-5630d8144877",
   "metadata": {},
   "outputs": [
    {
     "name": "stdin",
     "output_type": "stream",
     "text": [
      " 3\n",
      " 1 2 5\n",
      " 2 3 10\n"
     ]
    },
    {
     "name": "stdout",
     "output_type": "stream",
     "text": [
      "dict_items([(1, [(2, 5)]), (2, [(1, 5), (3, 10)]), (3, [(2, 10)])])\n",
      "dict_items([(1, [(2, 5)]), (2, [(1, 5), (3, 10)]), (3, [(2, 10)])]) 2 1 [0, 0, 5, 0]\n",
      "dict_items([(1, [(2, 5)]), (2, [(1, 5), (3, 10)]), (3, [(2, 10)])]) 3 2 [0, 0, 5, 15]\n",
      "1 [0, 0, 5, 15]\n",
      "dict_items([(1, [(2, 5)]), (2, [(1, 5), (3, 10)]), (3, [(2, 10)])]) 1 2 [0, 10, 5, 15]\n",
      "dict_items([(1, [(2, 5)]), (2, [(1, 5), (3, 10)]), (3, [(2, 10)])]) 3 2 [0, 10, 5, 15]\n",
      "2 [0, 10, 5, 15]\n",
      "dict_items([(1, [(2, 5)]), (2, [(1, 5), (3, 10)]), (3, [(2, 10)])]) 2 3 [0, 10, 25, 15]\n",
      "dict_items([(1, [(2, 5)]), (2, [(1, 5), (3, 10)]), (3, [(2, 10)])]) 1 2 [0, 30, 25, 15]\n",
      "3 [0, 30, 25, 15]\n",
      "dict_items([(1, [(2, 5)]), (2, [(1, 5), (3, 10)]), (3, [(2, 10)])]) 2 3 [0, 30, 25, 15]\n",
      "dict_items([(1, [(2, 5)]), (2, [(1, 5), (3, 10)]), (3, [(2, 10)])]) 1 2 [0, 30, 25, 15]\n",
      "[0, 30, 25, 15]\n",
      "dict_items([(1, [(2, 5)]), (2, [(1, 5), (3, 10)]), (3, [(2, 10)])]) 2 1 [0, 0, 5, 0]\n",
      "dict_items([(1, [(2, 5)]), (2, [(1, 5), (3, 10)]), (3, [(2, 10)])]) 3 2 [0, 0, 5, 15]\n",
      "15\n"
     ]
    }
   ],
   "source": [
    "from collections import defaultdict\n",
    "\n",
    "# Функция для добавления ребра в граф\n",
    "def add_edge(graph, u, v, w):\n",
    "    graph[u].append((v, w))\n",
    "    graph[v].append((u, w))\n",
    "\n",
    "# Функция для выполнения DFS и поиска минимального расстояния от вершины до всех остальных\n",
    "def dfs(graph, u, parent, dist):\n",
    "    for v, w in graph[u]:\n",
    "        if v == parent:\n",
    "            continue\n",
    "        dist[v] = dist[u] + w\n",
    "        print(graph.items(), v, u, dist)\n",
    "        dfs(graph, v, u, dist)\n",
    "\n",
    "# Функция для поиска 2-радиуса\n",
    "def find_2_radius(n, edges):\n",
    "    graph = defaultdict(list)\n",
    "    for u, v, w in edges:\n",
    "        add_edge(graph, u, v, w)\n",
    "        \n",
    "    print(graph.items())\n",
    "\n",
    "    # Начнем с произвольной вершины (например, с вершины 1)\n",
    "    start_vertex = 1\n",
    "\n",
    "    # Выполним DFS, чтобы найти расстояния от стартовой вершины до всех остальных вершин\n",
    "    distances = [0] * (n + 1)\n",
    "    \n",
    "    for start_vertex in range(1, n+1):\n",
    "        dfs(graph, start_vertex, -1, distances)\n",
    "        print(start_vertex, distances)\n",
    "\n",
    "    dfs(graph, start_vertex, -1, distances)\n",
    "\n",
    "    max_distance = max(distances)\n",
    "    print(distances)\n",
    "\n",
    "    for i in range(1, n + 1):\n",
    "        if distances[i] == max_distance:\n",
    "            start_vertex = i\n",
    "\n",
    "    # Выполним DFS снова, начиная с новой стартовой вершины\n",
    "    distances = [0] * (n + 1)\n",
    "    dfs(graph, start_vertex, -1, distances)\n",
    "\n",
    "    return max(distances)\n",
    "\n",
    "# Чтение входных данных\n",
    "n = int(input())\n",
    "edges = []\n",
    "for _ in range(n - 1):\n",
    "    u, v, w = map(int, input().split())\n",
    "    edges.append((u, v, w))\n",
    "\n",
    "# print(edges)\n",
    "# Найдем и выведем 2-радиус\n",
    "result = find_2_radius(n, edges)\n",
    "print(result)\n"
   ]
  },
  {
   "cell_type": "markdown",
   "id": "e507f803-34f7-42a9-b2d7-7b27e46deed5",
   "metadata": {},
   "source": [
    "чат гпт почти правильное решение"
   ]
  },
  {
   "cell_type": "code",
   "execution_count": 2,
   "id": "c507b7c6-d66d-4de8-913f-0034d12309f2",
   "metadata": {},
   "outputs": [
    {
     "name": "stdin",
     "output_type": "stream",
     "text": [
      " 3\n",
      " 1 2 5\n",
      " 2 3 10\n"
     ]
    },
    {
     "name": "stdout",
     "output_type": "stream",
     "text": [
      "inf\n"
     ]
    }
   ],
   "source": [
    "from collections import defaultdict\n",
    "\n",
    "# Функция для добавления ребра в граф\n",
    "def add_edge(graph, u, v, w):\n",
    "    graph[u].append((v, w))\n",
    "    graph[v].append((u, w))\n",
    "\n",
    "# Функция для выполнения DFS и поиска минимального расстояния от вершины до всех остальных\n",
    "def dfs(graph, u, parent, dist):\n",
    "    for v, w in graph[u]:\n",
    "        if v == parent:\n",
    "            continue\n",
    "        dist[v] = dist[u] + w\n",
    "        dfs(graph, v, u, dist)\n",
    "\n",
    "# Функция для поиска минимального значения r для смежных вершин\n",
    "def find_min_r(graph, u, v):\n",
    "    distances_u = [0] * (n + 1)\n",
    "    distances_v = [0] * (n + 1)\n",
    "    dfs(graph, u, -1, distances_u)\n",
    "    dfs(graph, v, -1, distances_v)\n",
    "    \n",
    "    min_r = float('inf')\n",
    "    \n",
    "    for i in range(1, n + 1):\n",
    "        max_r = max(min_r, max(distances_u[i], distances_v[i]))\n",
    "    \n",
    "    return min_r\n",
    "\n",
    "# Чтение входных данных\n",
    "n = int(input())\n",
    "edges = []\n",
    "for _ in range(n - 1):\n",
    "    u, v, w = map(int, input().split())\n",
    "    edges.append((u, v, w))\n",
    "\n",
    "# Инициализация графа\n",
    "graph = defaultdict(list)\n",
    "for u, v, w in edges:\n",
    "    add_edge(graph, u, v, w)\n",
    "\n",
    "min_radius = float('inf')\n",
    "\n",
    "# Перебираем все смежные пары вершин\n",
    "for u, v, _ in edges:\n",
    "    min_radius = min(min_radius, find_min_r(graph, u, v))\n",
    "\n",
    "# Выводим результат\n",
    "print(min_radius)\n"
   ]
  },
  {
   "cell_type": "code",
   "execution_count": null,
   "id": "f96dd68f-a2ce-4bba-8462-ea8985cf2b0a",
   "metadata": {},
   "outputs": [],
   "source": []
  }
 ],
 "metadata": {
  "kernelspec": {
   "display_name": "Python 3 (ipykernel)",
   "language": "python",
   "name": "python3"
  },
  "language_info": {
   "codemirror_mode": {
    "name": "ipython",
    "version": 3
   },
   "file_extension": ".py",
   "mimetype": "text/x-python",
   "name": "python",
   "nbconvert_exporter": "python",
   "pygments_lexer": "ipython3",
   "version": "3.10.8"
  }
 },
 "nbformat": 4,
 "nbformat_minor": 5
}
